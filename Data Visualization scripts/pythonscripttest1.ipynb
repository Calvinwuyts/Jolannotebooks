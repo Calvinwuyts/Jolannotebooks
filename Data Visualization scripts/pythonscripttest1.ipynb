{
 "cells": [
  {
   "cell_type": "code",
   "execution_count": 47,
   "metadata": {
    "collapsed": false
   },
   "outputs": [
    {
     "data": {
      "text/html": [
       "<div>\n",
       "<table border=\"1\" class=\"dataframe\">\n",
       "  <thead>\n",
       "    <tr style=\"text-align: right;\">\n",
       "      <th></th>\n",
       "      <th>poiid</th>\n",
       "      <th>lat</th>\n",
       "      <th>lon</th>\n",
       "      <th>cat</th>\n",
       "      <th>country</th>\n",
       "    </tr>\n",
       "  </thead>\n",
       "  <tbody>\n",
       "    <tr>\n",
       "      <th>0</th>\n",
       "      <td>3fd66200f964a52000e71ee3</td>\n",
       "      <td>40.733596</td>\n",
       "      <td>-74.003139</td>\n",
       "      <td>Jazz Club</td>\n",
       "      <td>US</td>\n",
       "    </tr>\n",
       "    <tr>\n",
       "      <th>1</th>\n",
       "      <td>3fd66200f964a52000e81ee3</td>\n",
       "      <td>40.758102</td>\n",
       "      <td>-73.975734</td>\n",
       "      <td>Gym</td>\n",
       "      <td>US</td>\n",
       "    </tr>\n",
       "    <tr>\n",
       "      <th>2</th>\n",
       "      <td>3fd66200f964a52000ea1ee3</td>\n",
       "      <td>40.732456</td>\n",
       "      <td>-74.003755</td>\n",
       "      <td>Indian Restaurant</td>\n",
       "      <td>US</td>\n",
       "    </tr>\n",
       "    <tr>\n",
       "      <th>3</th>\n",
       "      <td>3fd66200f964a52000ec1ee3</td>\n",
       "      <td>42.345907</td>\n",
       "      <td>-71.087001</td>\n",
       "      <td>Indian Restaurant</td>\n",
       "      <td>US</td>\n",
       "    </tr>\n",
       "    <tr>\n",
       "      <th>4</th>\n",
       "      <td>3fd66200f964a52000ee1ee3</td>\n",
       "      <td>39.933178</td>\n",
       "      <td>-75.159262</td>\n",
       "      <td>Sandwich Place</td>\n",
       "      <td>US</td>\n",
       "    </tr>\n",
       "  </tbody>\n",
       "</table>\n",
       "</div>"
      ],
      "text/plain": [
       "                      poiid        lat        lon                cat country\n",
       "0  3fd66200f964a52000e71ee3  40.733596 -74.003139          Jazz Club      US\n",
       "1  3fd66200f964a52000e81ee3  40.758102 -73.975734                Gym      US\n",
       "2  3fd66200f964a52000ea1ee3  40.732456 -74.003755  Indian Restaurant      US\n",
       "3  3fd66200f964a52000ec1ee3  42.345907 -71.087001  Indian Restaurant      US\n",
       "4  3fd66200f964a52000ee1ee3  39.933178 -75.159262     Sandwich Place      US"
      ]
     },
     "execution_count": 47,
     "metadata": {},
     "output_type": "execute_result"
    }
   ],
   "source": [
    "import pandas\n",
    "#read the point of interest dataset\n",
    "df = pandas.read_csv('dataset_TIST2015_POIs.txt', sep='\\t', names = [\"poiid\", \"lat\", \"lon\", \"cat\", \"country\"])\n",
    "\n",
    "df.head()"
   ]
  },
  {
   "cell_type": "code",
   "execution_count": 15,
   "metadata": {
    "collapsed": false
   },
   "outputs": [
    {
     "data": {
      "text/html": [
       "<div>\n",
       "<table border=\"1\" class=\"dataframe\">\n",
       "  <thead>\n",
       "    <tr style=\"text-align: right;\">\n",
       "      <th></th>\n",
       "      <th>poiid</th>\n",
       "      <th>lat</th>\n",
       "      <th>lon</th>\n",
       "      <th>cat</th>\n",
       "      <th>country</th>\n",
       "    </tr>\n",
       "  </thead>\n",
       "  <tbody>\n",
       "    <tr>\n",
       "      <th>0</th>\n",
       "      <td>3fd66200f964a52000e71ee3</td>\n",
       "      <td>40.733596</td>\n",
       "      <td>-74.003139</td>\n",
       "      <td>Jazz Club</td>\n",
       "      <td>US</td>\n",
       "    </tr>\n",
       "    <tr>\n",
       "      <th>1</th>\n",
       "      <td>3fd66200f964a52000e81ee3</td>\n",
       "      <td>40.758102</td>\n",
       "      <td>-73.975734</td>\n",
       "      <td>Gym</td>\n",
       "      <td>US</td>\n",
       "    </tr>\n",
       "    <tr>\n",
       "      <th>2</th>\n",
       "      <td>3fd66200f964a52000ea1ee3</td>\n",
       "      <td>40.732456</td>\n",
       "      <td>-74.003755</td>\n",
       "      <td>Indian Restaurant</td>\n",
       "      <td>US</td>\n",
       "    </tr>\n",
       "    <tr>\n",
       "      <th>3</th>\n",
       "      <td>3fd66200f964a52000ec1ee3</td>\n",
       "      <td>42.345907</td>\n",
       "      <td>-71.087001</td>\n",
       "      <td>Indian Restaurant</td>\n",
       "      <td>US</td>\n",
       "    </tr>\n",
       "    <tr>\n",
       "      <th>4</th>\n",
       "      <td>3fd66200f964a52000ee1ee3</td>\n",
       "      <td>39.933178</td>\n",
       "      <td>-75.159262</td>\n",
       "      <td>Sandwich Place</td>\n",
       "      <td>US</td>\n",
       "    </tr>\n",
       "  </tbody>\n",
       "</table>\n",
       "</div>"
      ],
      "text/plain": [
       "                      poiid        lat        lon                cat country\n",
       "0  3fd66200f964a52000e71ee3  40.733596 -74.003139          Jazz Club      US\n",
       "1  3fd66200f964a52000e81ee3  40.758102 -73.975734                Gym      US\n",
       "2  3fd66200f964a52000ea1ee3  40.732456 -74.003755  Indian Restaurant      US\n",
       "3  3fd66200f964a52000ec1ee3  42.345907 -71.087001  Indian Restaurant      US\n",
       "4  3fd66200f964a52000ee1ee3  39.933178 -75.159262     Sandwich Place      US"
      ]
     },
     "execution_count": 15,
     "metadata": {},
     "output_type": "execute_result"
    }
   ],
   "source": [
    "#change the latitude and longitude columns to floating point values\n",
    "df['lat'] = df['lat'].astype(float)\n",
    "df['lon'] = df['lon'].astype(float)\n",
    "df.head()"
   ]
  },
  {
   "cell_type": "code",
   "execution_count": 50,
   "metadata": {
    "collapsed": false
   },
   "outputs": [],
   "source": [
    "#open an empty csv file as write\n",
    "#columns = [\"poiid\", \"lat\", \"lon\", \"cat\", \"country\"]\n",
    "f = open('output.txt', 'w')\n",
    "#iterate over all the rows and append those that have matching latitude\n",
    "#values to los angeles to our empty csv file with a comma delimiter.\n",
    "for index, row in df.iterrows():\n",
    "    if row['lat'] >= 33.5 and row['lat'] <= 35.0:\n",
    "        if row['lon'] >= -119.0 and row['lon'] <= -116.5:\n",
    "            thing = row['poiid']+\",\"+str(row['lat'])+\",\"+str(row['lon'])+\",\"+row['cat']+\"\\n\"\n",
    "            f.write(thing)\n",
    "            #thing.to_csv(f, mode='a', header=None, index=None)\n",
    "            #f2 = pandas.Series(row)\n",
    "            #f.append(f2, ignore_index=True)\n",
    "#close our csv file\n",
    "f.close()"
   ]
  }
 ],
 "metadata": {
  "anaconda-cloud": {},
  "kernelspec": {
   "display_name": "Python [default]",
   "language": "python",
   "name": "python2"
  },
  "language_info": {
   "codemirror_mode": {
    "name": "ipython",
    "version": 2
   },
   "file_extension": ".py",
   "mimetype": "text/x-python",
   "name": "python",
   "nbconvert_exporter": "python",
   "pygments_lexer": "ipython2",
   "version": "2.7.12"
  }
 },
 "nbformat": 4,
 "nbformat_minor": 1
}
