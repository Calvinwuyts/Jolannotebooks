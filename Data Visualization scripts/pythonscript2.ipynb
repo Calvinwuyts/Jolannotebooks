{
 "cells": [
  {
   "cell_type": "code",
   "execution_count": 6,
   "metadata": {
    "collapsed": false
   },
   "outputs": [
    {
     "data": {
      "text/html": [
       "<div>\n",
       "<table border=\"1\" class=\"dataframe\">\n",
       "  <thead>\n",
       "    <tr style=\"text-align: right;\">\n",
       "      <th></th>\n",
       "      <th>poiid</th>\n",
       "      <th>lat</th>\n",
       "      <th>lon</th>\n",
       "      <th>cat</th>\n",
       "    </tr>\n",
       "  </thead>\n",
       "  <tbody>\n",
       "    <tr>\n",
       "      <th>0</th>\n",
       "      <td>3fd66200f964a52001ef1ee3</td>\n",
       "      <td>34.092793</td>\n",
       "      <td>-118.281469</td>\n",
       "      <td>Bar</td>\n",
       "    </tr>\n",
       "    <tr>\n",
       "      <th>1</th>\n",
       "      <td>3fd66200f964a52002ef1ee3</td>\n",
       "      <td>34.075314</td>\n",
       "      <td>-118.253499</td>\n",
       "      <td>Bar</td>\n",
       "    </tr>\n",
       "    <tr>\n",
       "      <th>2</th>\n",
       "      <td>3fd66200f964a52005f01ee3</td>\n",
       "      <td>34.025916</td>\n",
       "      <td>-118.457514</td>\n",
       "      <td>Music Store</td>\n",
       "    </tr>\n",
       "    <tr>\n",
       "      <th>3</th>\n",
       "      <td>3fd66200f964a52007f11ee3</td>\n",
       "      <td>34.159909</td>\n",
       "      <td>-118.331111</td>\n",
       "      <td>Mexican Restaurant</td>\n",
       "    </tr>\n",
       "    <tr>\n",
       "      <th>4</th>\n",
       "      <td>3fd66200f964a52012f01ee3</td>\n",
       "      <td>34.024816</td>\n",
       "      <td>-118.459881</td>\n",
       "      <td>Dive Bar</td>\n",
       "    </tr>\n",
       "  </tbody>\n",
       "</table>\n",
       "</div>"
      ],
      "text/plain": [
       "                      poiid        lat         lon                 cat\n",
       "0  3fd66200f964a52001ef1ee3  34.092793 -118.281469                 Bar\n",
       "1  3fd66200f964a52002ef1ee3  34.075314 -118.253499                 Bar\n",
       "2  3fd66200f964a52005f01ee3  34.025916 -118.457514         Music Store\n",
       "3  3fd66200f964a52007f11ee3  34.159909 -118.331111  Mexican Restaurant\n",
       "4  3fd66200f964a52012f01ee3  34.024816 -118.459881            Dive Bar"
      ]
     },
     "execution_count": 6,
     "metadata": {},
     "output_type": "execute_result"
    }
   ],
   "source": [
    "import pandas\n",
    "\n",
    "df = pandas.read_csv('pois.csv', sep=',', names=['poiid', 'lat', 'lon', 'cat'])\n",
    "df.head()"
   ]
  },
  {
   "cell_type": "code",
   "execution_count": 19,
   "metadata": {
    "collapsed": false
   },
   "outputs": [],
   "source": [
    "ids = df['poiid']"
   ]
  },
  {
   "cell_type": "code",
   "execution_count": 24,
   "metadata": {
    "collapsed": false
   },
   "outputs": [
    {
     "data": {
      "text/plain": [
       "0    3fd66200f964a52001ef1ee3\n",
       "1    3fd66200f964a52002ef1ee3\n",
       "2    3fd66200f964a52005f01ee3\n",
       "3    3fd66200f964a52007f11ee3\n",
       "4    3fd66200f964a52012f01ee3\n",
       "Name: poiid, dtype: object"
      ]
     },
     "execution_count": 24,
     "metadata": {},
     "output_type": "execute_result"
    }
   ],
   "source": [
    "ids.columns=['poiid']\n",
    "ids.head()"
   ]
  },
  {
   "cell_type": "code",
   "execution_count": 10,
   "metadata": {
    "collapsed": false
   },
   "outputs": [
    {
     "data": {
      "text/html": [
       "<div>\n",
       "<table border=\"1\" class=\"dataframe\">\n",
       "  <thead>\n",
       "    <tr style=\"text-align: right;\">\n",
       "      <th></th>\n",
       "      <th>user</th>\n",
       "      <th>poiid</th>\n",
       "      <th>utc</th>\n",
       "      <th>offset</th>\n",
       "    </tr>\n",
       "  </thead>\n",
       "  <tbody>\n",
       "    <tr>\n",
       "      <th>0</th>\n",
       "      <td>50756</td>\n",
       "      <td>4f5e3a72e4b053fd6a4313f6</td>\n",
       "      <td>Tue Apr 03 18:00:06 +0000 2012</td>\n",
       "      <td>240</td>\n",
       "    </tr>\n",
       "    <tr>\n",
       "      <th>1</th>\n",
       "      <td>190571</td>\n",
       "      <td>4b4b87b5f964a5204a9f26e3</td>\n",
       "      <td>Tue Apr 03 18:00:07 +0000 2012</td>\n",
       "      <td>180</td>\n",
       "    </tr>\n",
       "    <tr>\n",
       "      <th>2</th>\n",
       "      <td>221021</td>\n",
       "      <td>4a85b1b3f964a520eefe1fe3</td>\n",
       "      <td>Tue Apr 03 18:00:08 +0000 2012</td>\n",
       "      <td>-240</td>\n",
       "    </tr>\n",
       "    <tr>\n",
       "      <th>3</th>\n",
       "      <td>66981</td>\n",
       "      <td>4b4606f2f964a520751426e3</td>\n",
       "      <td>Tue Apr 03 18:00:08 +0000 2012</td>\n",
       "      <td>-300</td>\n",
       "    </tr>\n",
       "    <tr>\n",
       "      <th>4</th>\n",
       "      <td>21010</td>\n",
       "      <td>4c2b4e8a9a559c74832f0de2</td>\n",
       "      <td>Tue Apr 03 18:00:09 +0000 2012</td>\n",
       "      <td>240</td>\n",
       "    </tr>\n",
       "  </tbody>\n",
       "</table>\n",
       "</div>"
      ],
      "text/plain": [
       "     user                     poiid                             utc  offset\n",
       "0   50756  4f5e3a72e4b053fd6a4313f6  Tue Apr 03 18:00:06 +0000 2012     240\n",
       "1  190571  4b4b87b5f964a5204a9f26e3  Tue Apr 03 18:00:07 +0000 2012     180\n",
       "2  221021  4a85b1b3f964a520eefe1fe3  Tue Apr 03 18:00:08 +0000 2012    -240\n",
       "3   66981  4b4606f2f964a520751426e3  Tue Apr 03 18:00:08 +0000 2012    -300\n",
       "4   21010  4c2b4e8a9a559c74832f0de2  Tue Apr 03 18:00:09 +0000 2012     240"
      ]
     },
     "execution_count": 10,
     "metadata": {},
     "output_type": "execute_result"
    }
   ],
   "source": [
    "df2 = pandas.read_csv('dataset_TIST2015_Checkins.txt', sep='\\t', names=['user', 'poiid', 'utc', 'offset'])\n",
    "df2.head()"
   ]
  },
  {
   "cell_type": "code",
   "execution_count": 43,
   "metadata": {
    "collapsed": false
   },
   "outputs": [],
   "source": [
    "f = open('checkins.txt', 'w')\n",
    "#values = 0\n",
    "for index, row in df2.iterrows():\n",
    "    if row['poiid'] in ids.values:\n",
    "           thing = str(row['user'])+\",\"+str(row['poiid'])+\",\"+str(row['utc'])+\",\"+\"\\n\"\n",
    "           f.write(thing)\n",
    "#        values += 1\n",
    "f.close()"
   ]
  },
  {
   "cell_type": "code",
   "execution_count": 29,
   "metadata": {
    "collapsed": false
   },
   "outputs": [
    {
     "name": "stdout",
     "output_type": "stream",
     "text": [
      "717\n"
     ]
    }
   ],
   "source": []
  },
  {
   "cell_type": "code",
   "execution_count": null,
   "metadata": {
    "collapsed": true
   },
   "outputs": [],
   "source": []
  }
 ],
 "metadata": {
  "anaconda-cloud": {},
  "kernelspec": {
   "display_name": "Python [conda root]",
   "language": "python",
   "name": "conda-root-py"
  },
  "language_info": {
   "codemirror_mode": {
    "name": "ipython",
    "version": 2
   },
   "file_extension": ".py",
   "mimetype": "text/x-python",
   "name": "python",
   "nbconvert_exporter": "python",
   "pygments_lexer": "ipython2",
   "version": "2.7.12"
  }
 },
 "nbformat": 4,
 "nbformat_minor": 1
}
